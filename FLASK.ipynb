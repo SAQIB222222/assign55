{
 "cells": [
  {
   "cell_type": "markdown",
   "id": "d8f45a59-f959-474e-b09c-6f7ba82364d9",
   "metadata": {},
   "source": [
    "Q1"
   ]
  },
  {
   "cell_type": "markdown",
   "id": "440c5e64-131c-475a-8249-3772d4391455",
   "metadata": {},
   "source": [
    "The well-known Python web application framework Flask makes it simple and quick for developers to create online applications. Flask is a well-liked option for developing small to medium-sized online apps, APIs, and web services because it is lightweight and adaptable. \n",
    "\n",
    "The following are some benefits of utilising the Flask Framework: \n",
    "\n",
    "Simple to learn: Flask is a straightforward framework that is easy for beginners to pick up. It has a low learning curve and needs little setup, so developers may start working with it right away. \n",
    "\n",
    "Flask is a lightweight framework that enables developers to create apps that are tailored to their individual requirements. It comes with a few optional extensions that can be added as needed and has a compact core. \n",
    "\n",
    "Strong and versatile:Flask is a potent framework that may be enhanced to accommodate increasingly demanding specifications. It makes it simple to add functionality to your application by providing a large selection of plugins, extensions, and libraries. \n",
    "Built-in development server: Flask has a built-in development server that enables programmers to quickly test and debug their apps. \n",
    "Big and helpful community: Flask has a sizable and helpful community of users and developers who contribute to its development, offer assistance, and share their knowledge via a variety of tools, including online forums, chat rooms, and documentation. \n",
    "Overall, Flask is a wonderful framework for creating small to medium-sized web applications that need flexibility and customisation. It is a well-liked option due to its simplicity, extensibility, and vast community. "
   ]
  },
  {
   "cell_type": "markdown",
   "id": "865bdea4-2dbf-475c-908c-81e5c25ad44a",
   "metadata": {},
   "source": [
    "Q2,Q3,Q4"
   ]
  },
  {
   "cell_type": "raw",
   "id": "251049e8-8907-443c-8c86-33ad98ceddb9",
   "metadata": {},
   "source": [
    "An app route in Flask is a mechanism to link a URL to a Python function that responds to the request made to that URL. The decorator @app.route(), which accepts a string parameter denoting the URL the method should handle, is used to create the app route.\n",
    "\n",
    "For example, the following code defines an app route that handles the URL \"/hello\":\n"
   ]
  },
  {
   "cell_type": "code",
   "execution_count": null,
   "id": "a0586d0b-8af6-4066-87cc-4614c30b7aca",
   "metadata": {},
   "outputs": [
    {
     "name": "stdout",
     "output_type": "stream",
     "text": [
      " * Serving Flask app '__main__'\n",
      " * Debug mode: off\n"
     ]
    },
    {
     "name": "stderr",
     "output_type": "stream",
     "text": [
      "WARNING: This is a development server. Do not use it in a production deployment. Use a production WSGI server instead.\n",
      " * Running on all addresses (0.0.0.0)\n",
      " * Running on http://127.0.0.1:5000\n",
      " * Running on http://172.18.0.14:5000\n",
      "Press CTRL+C to quit\n",
      "172.18.0.2 - - [20/Feb/2023 11:34:20] \"GET /hello HTTP/1.1\" 200 -\n",
      "172.18.0.2 - - [20/Feb/2023 11:34:24] \"GET /hello HTTP/1.1\" 200 -\n",
      "172.18.0.2 - - [20/Feb/2023 11:34:26] \"GET /q/q HTTP/1.1\" 200 -\n"
     ]
    }
   ],
   "source": [
    "from flask import Flask\n",
    "from flask import request\n",
    "app = Flask(__name__)\n",
    "\n",
    "@app.route(\"/hello\")\n",
    "def hello():\n",
    "    return 'Hello, World!'\n",
    "\n",
    "@app.route('/d')\n",
    "def d():\n",
    "    return 'WELCOME'\n",
    "@app.route(\"/s\")\n",
    "def s():\n",
    "    return \" welcome to  ABC Corporation India  999-999-9999\"\n",
    "@app.route(\"/q/q\")\n",
    "def q():\n",
    "    data = request.args.get('x')\n",
    "    return \"Hello, {}\".format(data)\n",
    "\n",
    "if __name__==\"__main__\":\n",
    "    app.run(host=\"0.0.0.0\")\n"
   ]
  },
  {
   "cell_type": "code",
   "execution_count": null,
   "id": "af1a623c-42a6-44f2-98ee-37b127ef11d1",
   "metadata": {},
   "outputs": [],
   "source": [
    "pip install flask"
   ]
  },
  {
   "cell_type": "markdown",
   "id": "ce07ead1-f1af-4ff2-84b6-dd9d802747db",
   "metadata": {},
   "source": [
    "When a user navigates to https://purple-pilot-zfkxd.pwskills.app:5000/hello in their web browser, Flask will call the hello function and return the string \"Hello, World!\" as the response.\n",
    "\n",
    "In Flask, app routing is used to establish a connection between URLs and the relevant functions. This is an essential component of creating a web application since it enables users to access various pages and interact with various components of the application. A Flask application can be built utilising app routing to reply to various requests with various functions, enabling you to design a dynamic and engaging user interface. \n",
    "\n",
    "To summarise, we define the URLs that our application should respond to and the functions that should process those requests using Flask's app routes. This enables us to develop a web application that is dynamic and can respond to user queries by giving the right answer."
   ]
  },
  {
   "cell_type": "markdown",
   "id": "2b13bb9b-3b7a-489c-bbec-536cd9b05668",
   "metadata": {},
   "source": [
    "from IPython.display import Image\n",
    "Image(filename='love.png')\n"
   ]
  },
  {
   "cell_type": "markdown",
   "id": "d1f3561f-2eb4-404e-9025-2ef8493b044d",
   "metadata": {},
   "source": [
    "![](saqib.png)"
   ]
  },
  {
   "cell_type": "markdown",
   "id": "5e26c7b3-ee6a-48bf-a40f-367dd8a8db9c",
   "metadata": {},
   "source": [
    "![](love.png)"
   ]
  },
  {
   "cell_type": "markdown",
   "id": "0ad81554-0f73-4b3f-8b8b-555bc1ce628d",
   "metadata": {},
   "source": [
    "Q5"
   ]
  },
  {
   "cell_type": "markdown",
   "id": "8690f800-891b-427f-b1d0-16faf99d34ca",
   "metadata": {},
   "source": [
    "The url_for() function is used in Flask for URL Building. This function generates a URL to the specified endpoint with the method provided.\n",
    "\n"
   ]
  },
  {
   "cell_type": "code",
   "execution_count": null,
   "id": "6a234448-f98a-42e1-a46a-50ed9ff0b9b1",
   "metadata": {},
   "outputs": [],
   "source": [
    "\n",
    "\n",
    "\n"
   ]
  },
  {
   "cell_type": "code",
   "execution_count": null,
   "id": "0acda921-db3b-4057-b537-491e235a259b",
   "metadata": {},
   "outputs": [],
   "source": []
  }
 ],
 "metadata": {
  "kernelspec": {
   "display_name": "Python 3 (ipykernel)",
   "language": "python",
   "name": "python3"
  },
  "language_info": {
   "codemirror_mode": {
    "name": "ipython",
    "version": 3
   },
   "file_extension": ".py",
   "mimetype": "text/x-python",
   "name": "python",
   "nbconvert_exporter": "python",
   "pygments_lexer": "ipython3",
   "version": "3.10.8"
  },
  "toc-autonumbering": false,
  "toc-showtags": false
 },
 "nbformat": 4,
 "nbformat_minor": 5
}
